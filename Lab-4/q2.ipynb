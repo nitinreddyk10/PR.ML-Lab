{
  "nbformat": 4,
  "nbformat_minor": 0,
  "metadata": {
    "colab": {
      "provenance": []
    },
    "kernelspec": {
      "name": "python3",
      "display_name": "Python 3"
    },
    "language_info": {
      "name": "python"
    }
  },
  "cells": [
    {
      "cell_type": "code",
      "execution_count": 16,
      "metadata": {
        "colab": {
          "base_uri": "https://localhost:8080/"
        },
        "id": "mGTDG0cLZUnE",
        "outputId": "b7be36a2-2d6d-4299-f0d2-4648e3e25d37"
      },
      "outputs": [
        {
          "output_type": "stream",
          "name": "stdout",
          "text": [
            "Drive already mounted at /content/drive; to attempt to forcibly remount, call drive.mount(\"/content/drive\", force_remount=True).\n"
          ]
        }
      ],
      "source": [
        "import pandas as pd\n",
        "import matplotlib.pyplot as plt\n",
        "import numpy as np\n",
        "import cv2\n",
        "\n",
        "from google.colab import drive\n",
        "drive.mount('/content/drive')\n",
        "path='/content/drive/My Drive/CS21B2028/PR-ML Lab/datasets'"
      ]
    },
    {
      "cell_type": "code",
      "source": [
        "# Load the query image\n",
        "query_image = cv2.imread('queryimage.png')\n",
        "\n",
        "# Load reference images\n",
        "reference_image1 = cv2.imread('refimage1.png')\n",
        "reference_image2 = cv2.imread('refimage2.png')\n"
      ],
      "metadata": {
        "id": "U3z0e9sdaJ7F"
      },
      "execution_count": 21,
      "outputs": []
    },
    {
      "cell_type": "code",
      "source": [
        "#query_image_gray = cv2.cvtColor(query_image, cv2.COLOR_BGR2GRAY)\n",
        "# Check if the image was loaded successfully\n",
        "if query_image is None:\n",
        "    print(\"Error: Unable to load query_image.png\")\n",
        "else:\n",
        "    # Convert the query image to grayscale\n",
        "    query_image_gray = cv2.cvtColor(query_image, cv2.COLOR_BGR2GRAY)\n",
        "\n",
        "# Repeat the above steps for reference_image1 and reference_image2\n",
        "\n",
        "\n",
        "reference_image1_gray = cv2.cvtColor(reference_image1, cv2.COLOR_BGR2GRAY)\n",
        "reference_image2_gray = cv2.cvtColor(reference_image2, cv2.COLOR_BGR2GRAY)"
      ],
      "metadata": {
        "id": "Uz_tUWTwaaN6"
      },
      "execution_count": null,
      "outputs": []
    },
    {
      "cell_type": "code",
      "source": [
        "hist_query = cv2.calcHist([query_image_gray], [0], None, [256], [0, 256])\n",
        "hist_reference1 = cv2.calcHist([reference_image1_gray], [0], None, [256], [0, 256])\n",
        "hist_reference2 = cv2.calcHist([reference_image2_gray], [0], None, [256], [0, 256])"
      ],
      "metadata": {
        "id": "msOkOpvsd3LZ"
      },
      "execution_count": null,
      "outputs": []
    },
    {
      "cell_type": "code",
      "source": [
        "hist_query /= hist_query.sum()\n",
        "hist_reference1 /= hist_reference1.sum()\n",
        "hist_reference2 /= hist_reference2.sum()"
      ],
      "metadata": {
        "id": "Az2Sb4Sid74s"
      },
      "execution_count": null,
      "outputs": []
    },
    {
      "cell_type": "code",
      "source": [
        "bhattacharyya_distance1 = cv2.compareHist(hist_query, hist_reference1, cv2.HISTCMP_BHATTACHARYYA)\n",
        "bhattacharyya_distance2 = cv2.compareHist(hist_query, hist_reference2, cv2.HISTCMP_BHATTACHARYYA)"
      ],
      "metadata": {
        "id": "u-zIKaQ3d-K7"
      },
      "execution_count": null,
      "outputs": []
    },
    {
      "cell_type": "code",
      "source": [
        "print(\"Bhattacharyya Distance between Query and Reference Image 1:\", bhattacharyya_distance1)\n",
        "print(\"Bhattacharyya Distance between Query and Reference Image 2:\", bhattacharyya_distance2)"
      ],
      "metadata": {
        "id": "6bm72SpceA6d"
      },
      "execution_count": null,
      "outputs": []
    }
  ]
}